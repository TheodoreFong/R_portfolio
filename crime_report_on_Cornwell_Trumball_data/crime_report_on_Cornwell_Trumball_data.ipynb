{
 "cells": [
  {
   "cell_type": "markdown",
   "metadata": {},
   "source": [
    "# Reducing Crime\n",
    "\n",
    "## Theodore Fong"
   ]
  },
  {
   "cell_type": "markdown",
   "metadata": {},
   "source": [
    "# Introduction:\n",
    "\n",
    "One of the primary concerns for any government is the safety and security of the citizens that live within its jurisdiction. Crime rate, or the ratio of crimes committed per person, is an important measure of safety within a given community. Therefore, local governments should seek to implement policy that lowers crime rates. Governments can control several factors relating to crime deterrents, such as how likely an individual is to be arrested for a crime, or how likely they are to be sentenced to a prison term once they have been convicted. We seek to determine the impacts of several different (government influenceable) variables have on a county's crime rate, and determine where government resources should be allocated in order to most effectively reduce crime rate. \n",
    "\n",
    "Our research question can be stated as follows: do the probability of arrest, the probability of conviction, the probability of a prison sentence, the average length of a prison sentence, and police per capita impact a county's crime rate? \n",
    "\n",
    "We will assess these factors both independently and jointly to help answer several sub-questions:\n",
    "\n",
    "- Does increasing the probability of arrest, conviction, and a prison sentence decrease the crime rate (by deterring potential criminals)?\n",
    "- Does lengthening prison sentences lower crime rate (again, by deterring potential criminals)?\n",
    "- Does increasing police presence in a county reduce the crime rate?\n",
    "\n",
    "Our null hypotheses are that these factors (which can be interpreted as \"crime deterrents\") have zero impact on crime rate. Either by rejecting or by failing to reject these null hypotheses, we will be able to make government policy recommendations about the appropriate (or inappropriate) use of government resources in order to target a reduction in crime rate."
   ]
  },
  {
   "cell_type": "markdown",
   "metadata": {},
   "source": [
    "# Data Loading, Cleaning, Exploration\n",
    "\n",
    "The data we use in this report comes from the original study by Cornwell and Trumball, researchers from the University of Georgia and West Virginia University (C. Cornwell and W. Trumball (1994), “Estimating the Economic Model of Crime with Panel Data,” Review of Economics and Statistics 76, 360-366.). It provides important crime statistics from different North Carolina counties in 1994. "
   ]
  },
  {
   "cell_type": "code",
   "execution_count": 1,
   "metadata": {},
   "outputs": [],
   "source": [
    "raw_data <- read.csv(\"crime_v2.csv\")"
   ]
  },
  {
   "cell_type": "code",
   "execution_count": 2,
   "metadata": {
    "scrolled": true
   },
   "outputs": [
    {
     "name": "stderr",
     "output_type": "stream",
     "text": [
      "Warning message:\n",
      "\"package 'car' was built under R version 3.5.3\"Loading required package: carData\n",
      "Warning message:\n",
      "\"package 'carData' was built under R version 3.5.2\"Warning message:\n",
      "\"package 'lmtest' was built under R version 3.5.3\"Loading required package: zoo\n",
      "Warning message:\n",
      "\"package 'zoo' was built under R version 3.5.3\"\n",
      "Attaching package: 'zoo'\n",
      "\n",
      "The following objects are masked from 'package:base':\n",
      "\n",
      "    as.Date, as.Date.numeric\n",
      "\n",
      "Warning message:\n",
      "\"package 'sandwich' was built under R version 3.5.3\"Warning message:\n",
      "\"package 'stargazer' was built under R version 3.5.2\"\n",
      "Please cite as: \n",
      "\n",
      " Hlavac, Marek (2018). stargazer: Well-Formatted Regression and Summary Statistics Tables.\n",
      " R package version 5.2.2. https://CRAN.R-project.org/package=stargazer \n",
      "\n"
     ]
    }
   ],
   "source": [
    "library(car)\n",
    "library(lmtest)\n",
    "library(sandwich)\n",
    "library(stargazer)"
   ]
  },
  {
   "cell_type": "code",
   "execution_count": 3,
   "metadata": {
    "scrolled": true
   },
   "outputs": [
    {
     "data": {
      "text/plain": [
       "     county           year        crmrte             prbarr       \n",
       " Min.   :  1.0   Min.   :87   Min.   :0.005533   Min.   :0.09277  \n",
       " 1st Qu.: 52.0   1st Qu.:87   1st Qu.:0.020927   1st Qu.:0.20568  \n",
       " Median :105.0   Median :87   Median :0.029986   Median :0.27095  \n",
       " Mean   :101.6   Mean   :87   Mean   :0.033400   Mean   :0.29492  \n",
       " 3rd Qu.:152.0   3rd Qu.:87   3rd Qu.:0.039642   3rd Qu.:0.34438  \n",
       " Max.   :197.0   Max.   :87   Max.   :0.098966   Max.   :1.09091  \n",
       " NA's   :6       NA's   :6    NA's   :6          NA's   :6        \n",
       "        prbconv      prbpris           avgsen           polpc         \n",
       "            : 5   Min.   :0.1500   Min.   : 5.380   Min.   :0.000746  \n",
       " 0.588859022: 2   1st Qu.:0.3648   1st Qu.: 7.340   1st Qu.:0.001231  \n",
       " `          : 1   Median :0.4234   Median : 9.100   Median :0.001485  \n",
       " 0.068376102: 1   Mean   :0.4108   Mean   : 9.647   Mean   :0.001702  \n",
       " 0.140350997: 1   3rd Qu.:0.4568   3rd Qu.:11.420   3rd Qu.:0.001877  \n",
       " 0.154451996: 1   Max.   :0.6000   Max.   :20.700   Max.   :0.009054  \n",
       " (Other)    :86   NA's   :6        NA's   :6        NA's   :6         \n",
       "    density            taxpc             west           central      \n",
       " Min.   :0.00002   Min.   : 25.69   Min.   :0.0000   Min.   :0.0000  \n",
       " 1st Qu.:0.54741   1st Qu.: 30.66   1st Qu.:0.0000   1st Qu.:0.0000  \n",
       " Median :0.96226   Median : 34.87   Median :0.0000   Median :0.0000  \n",
       " Mean   :1.42884   Mean   : 38.06   Mean   :0.2527   Mean   :0.3736  \n",
       " 3rd Qu.:1.56824   3rd Qu.: 40.95   3rd Qu.:0.5000   3rd Qu.:1.0000  \n",
       " Max.   :8.82765   Max.   :119.76   Max.   :1.0000   Max.   :1.0000  \n",
       " NA's   :6         NA's   :6        NA's   :6        NA's   :6       \n",
       "     urban            pctmin80           wcon            wtuc      \n",
       " Min.   :0.00000   Min.   : 1.284   Min.   :193.6   Min.   :187.6  \n",
       " 1st Qu.:0.00000   1st Qu.: 9.845   1st Qu.:250.8   1st Qu.:374.6  \n",
       " Median :0.00000   Median :24.312   Median :281.4   Median :406.5  \n",
       " Mean   :0.08791   Mean   :25.495   Mean   :285.4   Mean   :411.7  \n",
       " 3rd Qu.:0.00000   3rd Qu.:38.142   3rd Qu.:314.8   3rd Qu.:443.4  \n",
       " Max.   :1.00000   Max.   :64.348   Max.   :436.8   Max.   :613.2  \n",
       " NA's   :6         NA's   :6        NA's   :6       NA's   :6      \n",
       "      wtrd            wfir            wser             wmfg      \n",
       " Min.   :154.2   Min.   :170.9   Min.   : 133.0   Min.   :157.4  \n",
       " 1st Qu.:190.9   1st Qu.:286.5   1st Qu.: 229.7   1st Qu.:288.9  \n",
       " Median :203.0   Median :317.3   Median : 253.2   Median :320.2  \n",
       " Mean   :211.6   Mean   :322.1   Mean   : 275.6   Mean   :335.6  \n",
       " 3rd Qu.:225.1   3rd Qu.:345.4   3rd Qu.: 280.5   3rd Qu.:359.6  \n",
       " Max.   :354.7   Max.   :509.5   Max.   :2177.1   Max.   :646.9  \n",
       " NA's   :6       NA's   :6       NA's   :6        NA's   :6      \n",
       "      wfed            wsta            wloc            mix         \n",
       " Min.   :326.1   Min.   :258.3   Min.   :239.2   Min.   :0.01961  \n",
       " 1st Qu.:400.2   1st Qu.:329.3   1st Qu.:297.3   1st Qu.:0.08074  \n",
       " Median :449.8   Median :357.7   Median :308.1   Median :0.10186  \n",
       " Mean   :442.9   Mean   :357.5   Mean   :312.7   Mean   :0.12884  \n",
       " 3rd Qu.:478.0   3rd Qu.:382.6   3rd Qu.:329.2   3rd Qu.:0.15175  \n",
       " Max.   :598.0   Max.   :499.6   Max.   :388.1   Max.   :0.46512  \n",
       " NA's   :6       NA's   :6       NA's   :6       NA's   :6        \n",
       "    pctymle       \n",
       " Min.   :0.06216  \n",
       " 1st Qu.:0.07443  \n",
       " Median :0.07771  \n",
       " Mean   :0.08396  \n",
       " 3rd Qu.:0.08350  \n",
       " Max.   :0.24871  \n",
       " NA's   :6        "
      ]
     },
     "metadata": {},
     "output_type": "display_data"
    }
   ],
   "source": [
    "summary(raw_data)"
   ]
  },
  {
   "cell_type": "markdown",
   "metadata": {},
   "source": [
    "We can identify several important factors that government can control with policy through the dataset. These factors will be the primary variables of focus as we seek to make policy recommendations on reducing crime:\n",
    "\n",
    "- prbarr: the probability of arrest (ratio of arrests to offenses in a given county)\n",
    "- prbconv: the probability of conviction (ratio of convictions to arrests)\n",
    "- prbpris: the probability of a prison sentence (ratio of convictions resulting in a prison sentence to total convictions)\n",
    "- avgsen: the average length of a prison sentence \n",
    "- polpc: police per capita\n",
    "\n",
    "In addition to these variables, there are several demographic variables a government cannot directly control, yet still may help explain crime rate in any given community.  After testing the variables that we view as the primary policy levers for reducing crime rate, we'll introduce these variables as an examination of robustness for our initial model.\n",
    "\n",
    "- density: people per square mile\n",
    "- pctmin80: percent minority (1980)\n",
    "- pctymle: percent young male\n",
    "\n",
    "The data set also includes other variables that may or may not relate to crime rate, such as economic-related variables like tax per capita or wage for different industries and geographic indicators.\n",
    "\n",
    "An initial look at the data summary (above) suggests for data cleansing. First, there are six \"NA\" entries for each variable. We assume this means there are six empty observations we must remove from the dataset. Secondly, the variable \"prbconv\" is a string, which we will convert to numeric in order to run effective analysis. Finally, \"prbarr\" has a value greater that 1, which does not make theoretical sense. We will have to find this data point and remove the observation from our data set.\n",
    "\n",
    "We address these problems with the data now:"
   ]
  },
  {
   "cell_type": "code",
   "execution_count": 4,
   "metadata": {},
   "outputs": [
    {
     "data": {
      "text/html": [
       "<ol class=list-inline>\n",
       "\t<li>97</li>\n",
       "\t<li>25</li>\n",
       "</ol>\n"
      ],
      "text/latex": [
       "\\begin{enumerate*}\n",
       "\\item 97\n",
       "\\item 25\n",
       "\\end{enumerate*}\n"
      ],
      "text/markdown": [
       "1. 97\n",
       "2. 25\n",
       "\n",
       "\n"
      ],
      "text/plain": [
       "[1] 97 25"
      ]
     },
     "metadata": {},
     "output_type": "display_data"
    },
    {
     "data": {
      "text/html": [
       "<ol class=list-inline>\n",
       "\t<li>91</li>\n",
       "\t<li>25</li>\n",
       "</ol>\n"
      ],
      "text/latex": [
       "\\begin{enumerate*}\n",
       "\\item 91\n",
       "\\item 25\n",
       "\\end{enumerate*}\n"
      ],
      "text/markdown": [
       "1. 91\n",
       "2. 25\n",
       "\n",
       "\n"
      ],
      "text/plain": [
       "[1] 91 25"
      ]
     },
     "metadata": {},
     "output_type": "display_data"
    }
   ],
   "source": [
    "data <- raw_data[complete.cases(raw_data), ]\n",
    "dim(raw_data)\n",
    "dim(data)"
   ]
  },
  {
   "cell_type": "markdown",
   "metadata": {},
   "source": [
    "After removing the six \"NA\"s, we now have 91 observations, instead of the original 97 observations. "
   ]
  },
  {
   "cell_type": "code",
   "execution_count": 5,
   "metadata": {},
   "outputs": [
    {
     "data": {
      "text/plain": [
       "   Min. 1st Qu.  Median    Mean 3rd Qu.    Max. \n",
       "0.06838 0.34541 0.45283 0.55128 0.58886 2.12121 "
      ]
     },
     "metadata": {},
     "output_type": "display_data"
    }
   ],
   "source": [
    "data$prbconv <- (as.numeric(as.character(data$prbconv)))\n",
    "summary(data$prbconv)"
   ]
  },
  {
   "cell_type": "markdown",
   "metadata": {},
   "source": [
    "After converting prbconv to numeric values, we thought that the data presented in a 0-100 scale may be easier for interpretation.  When creating a linear model we consider the impact of a unit change of 1%; this helps us avoid having to interpret the variable as the change we get from moving from 0 to 1."
   ]
  },
  {
   "cell_type": "code",
   "execution_count": 6,
   "metadata": {},
   "outputs": [],
   "source": [
    "data$prbconv <- data$prbconv * 100\n",
    "data$prbarr <- data$prbarr * 100\n",
    "data$prbpris <- data$prbpris * 100"
   ]
  },
  {
   "cell_type": "markdown",
   "metadata": {},
   "source": [
    "We now need to inspect the anomaly in our prbarr variable, where a certain datapoint indicates a probability of arrest greater that 1 (or 100%, as we have now transformed the variable). We need to determine which county must be removed from the dataset."
   ]
  },
  {
   "cell_type": "code",
   "execution_count": 7,
   "metadata": {},
   "outputs": [
    {
     "data": {
      "text/html": [
       "115"
      ],
      "text/latex": [
       "115"
      ],
      "text/markdown": [
       "115"
      ],
      "text/plain": [
       "[1] 115"
      ]
     },
     "metadata": {},
     "output_type": "display_data"
    }
   ],
   "source": [
    "data$county[data$prbarr >100]"
   ]
  },
  {
   "cell_type": "code",
   "execution_count": 8,
   "metadata": {},
   "outputs": [
    {
     "data": {
      "text/html": [
       "<table>\n",
       "<thead><tr><th></th><th scope=col>county</th><th scope=col>year</th><th scope=col>crmrte</th><th scope=col>prbarr</th><th scope=col>prbconv</th><th scope=col>prbpris</th><th scope=col>avgsen</th><th scope=col>polpc</th><th scope=col>density</th><th scope=col>taxpc</th><th scope=col>...</th><th scope=col>wtuc</th><th scope=col>wtrd</th><th scope=col>wfir</th><th scope=col>wser</th><th scope=col>wmfg</th><th scope=col>wfed</th><th scope=col>wsta</th><th scope=col>wloc</th><th scope=col>mix</th><th scope=col>pctymle</th></tr></thead>\n",
       "<tbody>\n",
       "\t<tr><th scope=row>51</th><td>115       </td><td>87        </td><td>0.0055332 </td><td>109.091   </td><td>150       </td><td>50        </td><td>20.7      </td><td>0.00905433</td><td>0.3858093 </td><td>28.1931   </td><td>...       </td><td>503.2351  </td><td>217.4908  </td><td>342.4658  </td><td>245.2061  </td><td>448.42    </td><td>442.2     </td><td>340.39    </td><td>386.12    </td><td>0.1       </td><td>0.07253495</td></tr>\n",
       "</tbody>\n",
       "</table>\n"
      ],
      "text/latex": [
       "\\begin{tabular}{r|lllllllllllllllllllllllll}\n",
       "  & county & year & crmrte & prbarr & prbconv & prbpris & avgsen & polpc & density & taxpc & ... & wtuc & wtrd & wfir & wser & wmfg & wfed & wsta & wloc & mix & pctymle\\\\\n",
       "\\hline\n",
       "\t51 & 115        & 87         & 0.0055332  & 109.091    & 150        & 50         & 20.7       & 0.00905433 & 0.3858093  & 28.1931    & ...        & 503.2351   & 217.4908   & 342.4658   & 245.2061   & 448.42     & 442.2      & 340.39     & 386.12     & 0.1        & 0.07253495\\\\\n",
       "\\end{tabular}\n"
      ],
      "text/markdown": [
       "\n",
       "| <!--/--> | county | year | crmrte | prbarr | prbconv | prbpris | avgsen | polpc | density | taxpc | ... | wtuc | wtrd | wfir | wser | wmfg | wfed | wsta | wloc | mix | pctymle |\n",
       "|---|---|---|---|---|---|---|---|---|---|---|---|---|---|---|---|---|---|---|---|---|---|\n",
       "| 51 | 115        | 87         | 0.0055332  | 109.091    | 150        | 50         | 20.7       | 0.00905433 | 0.3858093  | 28.1931    | ...        | 503.2351   | 217.4908   | 342.4658   | 245.2061   | 448.42     | 442.2      | 340.39     | 386.12     | 0.1        | 0.07253495 |\n",
       "\n"
      ],
      "text/plain": [
       "   county year crmrte    prbarr  prbconv prbpris avgsen polpc      density  \n",
       "51 115    87   0.0055332 109.091 150     50      20.7   0.00905433 0.3858093\n",
       "   taxpc   ... wtuc     wtrd     wfir     wser     wmfg   wfed  wsta   wloc  \n",
       "51 28.1931 ... 503.2351 217.4908 342.4658 245.2061 448.42 442.2 340.39 386.12\n",
       "   mix pctymle   \n",
       "51 0.1 0.07253495"
      ]
     },
     "metadata": {},
     "output_type": "display_data"
    }
   ],
   "source": [
    "data[data$county==115,]"
   ]
  },
  {
   "cell_type": "markdown",
   "metadata": {},
   "source": [
    "We then remove this observation."
   ]
  },
  {
   "cell_type": "code",
   "execution_count": 9,
   "metadata": {},
   "outputs": [
    {
     "data": {
      "text/html": [
       "<ol class=list-inline>\n",
       "\t<li>90</li>\n",
       "\t<li>25</li>\n",
       "</ol>\n"
      ],
      "text/latex": [
       "\\begin{enumerate*}\n",
       "\\item 90\n",
       "\\item 25\n",
       "\\end{enumerate*}\n"
      ],
      "text/markdown": [
       "1. 90\n",
       "2. 25\n",
       "\n",
       "\n"
      ],
      "text/plain": [
       "[1] 90 25"
      ]
     },
     "metadata": {},
     "output_type": "display_data"
    }
   ],
   "source": [
    "vars2 <- names(data)\n",
    "data2 <-data[vars2]\n",
    "d <- subset(data2, county !=115)\n",
    "dim(d)"
   ]
  },
  {
   "cell_type": "markdown",
   "metadata": {},
   "source": [
    "Finally, our dataset has 90 observations after data cleansing and transformations. We now build a linear regression model that helps us determine the effects of different variables on crime rate."
   ]
  },
  {
   "cell_type": "markdown",
   "metadata": {},
   "source": [
    "# Model Building\n",
    "\n",
    "Our variables of interest are those that a government can easily control through public policy at the local county and state level. Our model uses the following variables:\n",
    "\n",
    "- prbarr (the probability of arrest, defined as the ratio of arrests made to crimes committed)\n",
    "- prbconv (the probability of conviction, defined as the ratio of convictions to arrests)\n",
    "- prbpris (the probability of a prison sentence, defined as the ratio of convictions resulting in a prison sentence to total convictions)\n",
    "- avgsen (the average length of a prison sentence)\n",
    "- polpc (police per capita)\n",
    "\n",
    "We hypothesize that these variables have an impact on crime rate. The various probabilities are relevant because higher probabilities ought to deter criminal activity, like a community that professes to be \"tough on crime\" due to these high probabilities. A potential criminal may think twice before committing a crime, as they consider the likelihood they will be arrested, convicted, and given a prison sentence as a result. Conversely, a community where these probabilities are low, a potential criminal may think they have a stronger chance of committing a crime without repercussion, and thus commits a crime. Government policy could alter legal standards that would change these probabilities.\n",
    "\n",
    "Average sentence length works similarly as a deterrent. We would expect that communities that tend to give longer prison sentences are \"tougher on crime\" to discourage illegal activity in their community. Government policy could alter legal standards that could lengthen or shorten the length of prison sentences.\n",
    "\n",
    "The final variable, police per capita, is important to consider as a government allocates the use of police forces to most effectively deter criminal activity. We are interested if an increased police presence has a negative impact on crime rate. We must be cautious with causality here, as an increase in police per capita could actually be a response to high crime rate.\n",
    "\n",
    "In summary, our null hypothesis for the model building will be that the individual regression coefficients are actually 0, indicating that the explanatory variables are not statistically relevant in explaining crime rates. The alternative hypothesis is that the linear model's individual regression coefficients are not 0, which would indicate that they are statistically relevant in a linear regression model in explaining crime rates."
   ]
  },
  {
   "cell_type": "markdown",
   "metadata": {},
   "source": [
    "## EDA on outcome and explanatory variables:\n",
    "\n",
    "We begin by inspecting the distribution of our outcome variable: crime rate."
   ]
  },
  {
   "cell_type": "code",
   "execution_count": 10,
   "metadata": {},
   "outputs": [
    {
     "data": {
      "image/png": "[encoded data removed]",
      "text/plain": [
       "Plot with title \"Histogram of NC County Crime Rates\""
      ]
     },
     "metadata": {},
     "output_type": "display_data"
    }
   ],
   "source": [
    "hist(d$crmrte, breaks=20, xlab= \"Crime Rate\", \n",
    "     main = \"Histogram of NC County Crime Rates\")"
   ]
  },
  {
   "cell_type": "markdown",
   "metadata": {},
   "source": [
    "There is a peak around 0.03 (also the median, from the initial summary), with a heavy positive skew. This indicates there are more communities suffering from higher crime rates than the median and mean. While taking the log of this variable may produce a more normal distribution, interpreting the log of crime rate does not seem meaningful.\n",
    "\n",
    "We next look at the distributions of our predictor variables, as well as their relationship with our outcome variable. We begin with the probability of arrest."
   ]
  },
  {
   "cell_type": "code",
   "execution_count": 11,
   "metadata": {},
   "outputs": [
    {
     "data": {
      "image/png": "[encoded data removed]",
      "text/plain": [
       "Plot with title \"Histogram of Arrest Probability\""
      ]
     },
     "metadata": {},
     "output_type": "display_data"
    }
   ],
   "source": [
    "hist(d$prbarr, breaks=20, xlab= \"Probability of Arrest\", \n",
    "     main = \"Histogram of Arrest Probability\")"
   ]
  },
  {
   "cell_type": "markdown",
   "metadata": {},
   "source": [
    "We notice a peak around twenty percent, with a slight positive skew. The range is rather wide; while there is a county with a probability of arrest lower that ten percent, there is also a county with a probability of arrest nearing seventy percent (a bit of an outlier)."
   ]
  },
  {
   "cell_type": "code",
   "execution_count": 12,
   "metadata": {},
   "outputs": [
    {
     "data": {
      "image/png": "[encoded data removed]",
      "text/plain": [
       "Plot with title \"Probability of Arrest vs. Crime Rate\""
      ]
     },
     "metadata": {},
     "output_type": "display_data"
    }
   ],
   "source": [
    "plot(d$prbarr, d$crmrte, xlab=\"Probability of Arrest\", ylab=\"Crime Rate\",\n",
    "           main=\"Probability of Arrest vs. Crime Rate\")"
   ]
  },
  {
   "cell_type": "markdown",
   "metadata": {},
   "source": [
    "The scatterplot shows a negative relationship between the probability of arrest in a county and that county's crime rate. An increase in the probability of arrest is associated with a decrease in the crime rate.\n",
    "\n",
    "We now consider our next predictor variable, the probability of conviction."
   ]
  },
  {
   "cell_type": "code",
   "execution_count": 13,
   "metadata": {},
   "outputs": [
    {
     "data": {
      "image/png": "[encoded data removed]",
      "text/plain": [
       "Plot with title \"Histogram of Conviction Probability\""
      ]
     },
     "metadata": {},
     "output_type": "display_data"
    }
   ],
   "source": [
    "hist(d$prbconv, breaks=20, xlab= \"Probability of Conviction\", \n",
    "     main = \"Histogram of Conviction Probability\")"
   ]
  },
  {
   "cell_type": "markdown",
   "metadata": {},
   "source": [
    "The distribution for the probability of conviction is mostly distributed from thirty to sixty percent.  A concern is the number of counties with a probability of conviction above one hundred percent.  The description of prbconv is that it is \"proxied by the ratio of convictions to arrests\".  Some cursory research into the topic revealed that its possible for a person to be convicted without going through a formal custodial arrest.  Therefore, we've elected to keep observations with greater than 100 in but will proceed with both the understanding that this variable is only a proxy for probability of conviction and that the range of this variable is not constrained to values less than a hundred.  "
   ]
  },
  {
   "cell_type": "code",
   "execution_count": 14,
   "metadata": {},
   "outputs": [
    {
     "data": {
      "image/png": "[encoded data removed]",
      "text/plain": [
       "Plot with title \"Probability of Conviction vs. Crime Rate\""
      ]
     },
     "metadata": {},
     "output_type": "display_data"
    }
   ],
   "source": [
    "plot(d$prbconv, d$crmrte, xlab=\"Probability of Conviction\", ylab=\"Crime Rate\",\n",
    "           main=\"Probability of Conviction vs. Crime Rate\")"
   ]
  },
  {
   "cell_type": "markdown",
   "metadata": {},
   "source": [
    "Similarly to the probability of arrest, there seems to be a negative relationship here. An increase in the probability of conviction is associated with a decrease in the crime rate.\n",
    "\n",
    "We move on to consider our next variable: the probability of a prison sentence."
   ]
  },
  {
   "cell_type": "code",
   "execution_count": 15,
   "metadata": {},
   "outputs": [
    {
     "data": {
      "image/png": "[encoded data removed]",
      "text/plain": [
       "Plot with title \"Histogram of Prison Sentence Probability\""
      ]
     },
     "metadata": {},
     "output_type": "display_data"
    }
   ],
   "source": [
    "hist(d$prbpris, breaks=15, xlab= \"Probability of Prison Sentence\", \n",
    "     main = \"Histogram of Prison Sentence Probability\")"
   ]
  },
  {
   "cell_type": "markdown",
   "metadata": {},
   "source": [
    "We notice a peak in the low forties, and possibly a slight negative skew. There does not appear to be anything irregular about the distribution.\n",
    "\n",
    "We now consider the relationship between the probability of a prison sentence and crime rate."
   ]
  },
  {
   "cell_type": "code",
   "execution_count": 16,
   "metadata": {},
   "outputs": [
    {
     "data": {
      "image/png": "[encoded data removed]",
      "text/plain": [
       "Plot with title \"Probability of Prison Sentence vs. Crime Rate\""
      ]
     },
     "metadata": {},
     "output_type": "display_data"
    }
   ],
   "source": [
    "plot(d$prbpris, d$crmrte, xlab=\"Probability of Prison Sentence\", ylab=\"Crime Rate\",\n",
    "           main=\"Probability of Prison Sentence vs. Crime Rate\")"
   ]
  },
  {
   "cell_type": "markdown",
   "metadata": {},
   "source": [
    "It is difficult to identify a linear relationship based on this scatterplot. \n",
    "\n",
    "We now move on to our next predictor variable, average sentence length."
   ]
  },
  {
   "cell_type": "code",
   "execution_count": 17,
   "metadata": {},
   "outputs": [
    {
     "data": {
      "image/png": "[encoded data removed]",
      "text/plain": [
       "Plot with title \"Histogram of Prison Sentence Length\""
      ]
     },
     "metadata": {},
     "output_type": "display_data"
    }
   ],
   "source": [
    "hist(d$avgsen, breaks=10, xlab= \"Average Length of Prison Sentence\", \n",
    "     main = \"Histogram of Prison Sentence Length\")"
   ]
  },
  {
   "cell_type": "markdown",
   "metadata": {},
   "source": [
    "We notice a peak around 8 days with a positive skew, and another slight peak around 12 days.\n",
    "\n",
    "We now analyze the relationship between average prison sentence length and crime rate."
   ]
  },
  {
   "cell_type": "code",
   "execution_count": 18,
   "metadata": {},
   "outputs": [
    {
     "data": {
      "image/png": "[encoded data removed]",
      "text/plain": [
       "Plot with title \"Average Sentence Length vs. Crime Rate\""
      ]
     },
     "metadata": {},
     "output_type": "display_data"
    }
   ],
   "source": [
    "plot(d$avgsen, d$crmrte, xlab=\"Avg. Sentence Length\", ylab=\"Crime Rate\",\n",
    "           main=\"Average Sentence Length vs. Crime Rate\")"
   ]
  },
  {
   "cell_type": "markdown",
   "metadata": {},
   "source": [
    "Again, it is difficult to determine a linear relationship between the two variables on our scatterplot, though there may be an indication of a slight positive relationship. \n",
    "\n",
    "Finally, we turn to our last predictor variable, police per capita."
   ]
  },
  {
   "cell_type": "code",
   "execution_count": 19,
   "metadata": {},
   "outputs": [
    {
     "data": {
      "image/png": "[encoded data removed]",
      "text/plain": [
       "Plot with title \"Histogram of Police Per Capita\""
      ]
     },
     "metadata": {},
     "output_type": "display_data"
    }
   ],
   "source": [
    "hist(d$polpc, breaks=15, xlab= \"Police Per Capita\", \n",
    "     main = \"Histogram of Police Per Capita\")"
   ]
  },
  {
   "cell_type": "markdown",
   "metadata": {},
   "source": [
    "We notice a positive skew, with a peak around 0.0015 and several outliers greater that 0.004. This indicates some counties have a very large police presence, given the overall population of the county, in comparison with the rest of the state.\n",
    "\n",
    "Let us consider the relationship between police per capita and crime rate."
   ]
  },
  {
   "cell_type": "code",
   "execution_count": 20,
   "metadata": {},
   "outputs": [
    {
     "data": {
      "image/png": "[encoded data removed]",
      "text/plain": [
       "Plot with title \"Police Per Capita vs. Crime Rate\""
      ]
     },
     "metadata": {},
     "output_type": "display_data"
    }
   ],
   "source": [
    "plot(d$polpc, d$crmrte, xlab=\"Police Per Capita\", ylab=\"Crime Rate\",\n",
    "           main=\"Police Per Capita vs. Crime Rate\")"
   ]
  },
  {
   "cell_type": "markdown",
   "metadata": {},
   "source": [
    "We notice a positive relationship between police per capita and crime rate: an increase in police per capita is associated with an increase in crime rate. (Again, we are cautious about claiming causality here, as counties may increase police per capita in response to a high crime rate, rather than a high crime rate being a result of an increased police presence).\n",
    "\n",
    "After this brief exploration to get an understanding of our primary variables of concern, we are now prepared to build our base linear regression model."
   ]
  },
  {
   "cell_type": "markdown",
   "metadata": {},
   "source": [
    "# Regression Model: Base\n",
    "\n",
    "We now create our initial linear model for the parameters of interest. Our null hypothesis is that none of the explanatory variables are relevant to predicting crime rate through linear regression, while our alternative hypothesis is that these variables are relevant."
   ]
  },
  {
   "cell_type": "code",
   "execution_count": 21,
   "metadata": {},
   "outputs": [],
   "source": [
    "model1 <- lm(crmrte ~ prbarr + prbconv + prbpris + avgsen + polpc, data=d)"
   ]
  },
  {
   "cell_type": "markdown",
   "metadata": {},
   "source": [
    "## Checking the CLM assumptions for our base model"
   ]
  },
  {
   "cell_type": "markdown",
   "metadata": {},
   "source": [
    "### MLR.1: Linear in parameters\n",
    "\n",
    "Our model is set up linearly, following the standard form\n",
    "$$ y = \\beta_0 + \\beta_1 x_1 + ... + \\beta_k x_k + u $$\n",
    "\n",
    "### MLR.2: Random Sampling\n",
    "\n",
    "We must assume our data points were drawn randomly and are iid."
   ]
  },
  {
   "cell_type": "markdown",
   "metadata": {},
   "source": [
    "### MLR.3: No perfect multicollinearity\n",
    "\n",
    "We can test for multicollinearity by looking at the Variance Inflation Factors of our model. If any of our variables have a VIF near 4, then we will have found evidence of multicollinearity."
   ]
  },
  {
   "cell_type": "code",
   "execution_count": 22,
   "metadata": {},
   "outputs": [
    {
     "data": {
      "text/html": [
       "<dl class=dl-horizontal>\n",
       "\t<dt>prbarr</dt>\n",
       "\t\t<dd>1.14124593440923</dd>\n",
       "\t<dt>prbconv</dt>\n",
       "\t\t<dd>1.13069292844251</dd>\n",
       "\t<dt>prbpris</dt>\n",
       "\t\t<dd>1.03194946743796</dd>\n",
       "\t<dt>avgsen</dt>\n",
       "\t\t<dd>1.12820898064892</dd>\n",
       "\t<dt>polpc</dt>\n",
       "\t\t<dd>1.13322502806027</dd>\n",
       "</dl>\n"
      ],
      "text/latex": [
       "\\begin{description*}\n",
       "\\item[prbarr] 1.14124593440923\n",
       "\\item[prbconv] 1.13069292844251\n",
       "\\item[prbpris] 1.03194946743796\n",
       "\\item[avgsen] 1.12820898064892\n",
       "\\item[polpc] 1.13322502806027\n",
       "\\end{description*}\n"
      ],
      "text/markdown": [
       "prbarr\n",
       ":   1.14124593440923prbconv\n",
       ":   1.13069292844251prbpris\n",
       ":   1.03194946743796avgsen\n",
       ":   1.12820898064892polpc\n",
       ":   1.13322502806027\n",
       "\n"
      ],
      "text/plain": [
       "  prbarr  prbconv  prbpris   avgsen    polpc \n",
       "1.141246 1.130693 1.031949 1.128209 1.133225 "
      ]
     },
     "metadata": {},
     "output_type": "display_data"
    }
   ],
   "source": [
    "vif(model1)"
   ]
  },
  {
   "cell_type": "markdown",
   "metadata": {},
   "source": [
    "All of our VIFs are close to one, indicating we are fine with our assumption that there is limited multicollinearity in our model, and certainly no perfect multicollinearity."
   ]
  },
  {
   "cell_type": "markdown",
   "metadata": {},
   "source": [
    "### MLR.4: Zero-conditional Mean\n",
    "\n",
    "To test the zero-conditional mean assumption, we call the Residuals vs. Fitted plot of our model."
   ]
  },
  {
   "cell_type": "code",
   "execution_count": 23,
   "metadata": {},
   "outputs": [
    {
     "data": {
      "image/png": "[encoded data removed]",
      "text/plain": [
       "Plot with title \"\""
      ]
     },
     "metadata": {},
     "output_type": "display_data"
    }
   ],
   "source": [
    "plot(model1, which = 1)"
   ]
  },
  {
   "cell_type": "markdown",
   "metadata": {},
   "source": [
    "To meet the zero-conditional mean assumption, we would expect to see the scatterplot fitted around 0. This is not the case here, and we can see the mean line begins well above 0, dips down below 0, and then takes off again to be greater than 0, suggesting we are violating the zero mean condition and our estimated parameter coefficients may be biased.\n",
    "\n",
    "With a sample size greater than 30 (recall we have data from 90 counties), we rely on OLS asymptotics in response to our violated zero-conditional mean assumption. If we set aside causality and look only for the best-fit line, exogeneity tells us our parameter estimates are consistent."
   ]
  },
  {
   "cell_type": "markdown",
   "metadata": {},
   "source": [
    "### MLR.5: Homoskedasticity\n",
    "\n",
    "The Residuals vs. Fitted plot also suggests that we may be violating the homoskedasticity assumption. To meet the homoskedasticity assumption, we expect each vertical cross-section of the data points in the plot to be the same thickness. This is not the case as the variance on the left side is much smaller then the variance on the right and thus, we will likely need to correct our model for heteroskedasticity. We further analyze the Scale-Location plot to check for heteroskedasticity."
   ]
  },
  {
   "cell_type": "code",
   "execution_count": 24,
   "metadata": {},
   "outputs": [
    {
     "data": {
      "image/png": "[encoded data removed]",
      "text/plain": [
       "Plot with title \"\""
      ]
     },
     "metadata": {},
     "output_type": "display_data"
    }
   ],
   "source": [
    "plot(model1, which = 3)"
   ]
  },
  {
   "cell_type": "markdown",
   "metadata": {},
   "source": [
    "If we had homoskedasticity, we would expect the data points to track a flat horizontal line. This is not happening, again suggesting we have heteroskedasticity. We will have to use heteroskedasticity robust standard errors for our model."
   ]
  },
  {
   "cell_type": "markdown",
   "metadata": {},
   "source": [
    "### MLR.6: Normal error term\n",
    "\n",
    "We look at a histogram of our error terms and run a shapiro test (with the null hypothesis that the residuals are normally distributed) to check this assumption:"
   ]
  },
  {
   "cell_type": "code",
   "execution_count": 25,
   "metadata": {},
   "outputs": [
    {
     "data": {
      "text/plain": [
       "\n",
       "\tShapiro-Wilk normality test\n",
       "\n",
       "data:  model1$residuals\n",
       "W = 0.97786, p-value = 0.1277\n"
      ]
     },
     "metadata": {},
     "output_type": "display_data"
    },
    {
     "data": {
      "image/png": "[encoded data removed]",
      "text/plain": [
       "Plot with title \"Histogram of Model Residuals\""
      ]
     },
     "metadata": {},
     "output_type": "display_data"
    }
   ],
   "source": [
    "hist(model1$residuals, breaks= 12, main=\"Histogram of Model Residuals\", \n",
    "     xlab=\"Residual\")\n",
    "shapiro.test(model1$residuals)"
   ]
  },
  {
   "cell_type": "markdown",
   "metadata": {},
   "source": [
    "Visually, it appears that our residuals are close to normally distributed about 0 (with a peak slightly below 0). The shapiro test similarly fails to reject the null hypothesis that the residuals are normally distributed (with a p-value of 0.12). Thus, we have not violated the assumption."
   ]
  },
  {
   "cell_type": "markdown",
   "metadata": {},
   "source": [
    "### Check for Influential Points\n",
    "\n",
    "In addition to our CLM assumptions, we also examine if there are points in our data set with high influence (high leverage and a large residual) on our regression. We will do this by looking at the plot of Residuals vs. Leverage, and seeing if any of our points have a great Cook's distance. Any point with a Cook's distance greater than 1 will require further inspection."
   ]
  },
  {
   "cell_type": "code",
   "execution_count": 26,
   "metadata": {},
   "outputs": [
    {
     "data": {
      "image/png": "[encoded data removed]",
      "text/plain": [
       "Plot with title \"\""
      ]
     },
     "metadata": {},
     "output_type": "display_data"
    }
   ],
   "source": [
    "plot(model1, which = 5)"
   ]
  },
  {
   "cell_type": "markdown",
   "metadata": {},
   "source": [
    "Our residuals vs. leverage plot indicates we do not have points with high influence that we should be concerned about.\n",
    "\n",
    "We are now ready to analyze the results of our regression model."
   ]
  },
  {
   "cell_type": "markdown",
   "metadata": {},
   "source": [
    "## Interpreting Results (Base model)\n",
    "\n",
    "Below we look at the parameter coefficients and standard errors for our model, adjusted for heteroskedasticity by giving the model a new variance-covariance matrix: \"vcovHC\" (for variance-covariance heteroskedasticity consistent)."
   ]
  },
  {
   "cell_type": "code",
   "execution_count": 27,
   "metadata": {
    "scrolled": true
   },
   "outputs": [
    {
     "name": "stdout",
     "output_type": "stream",
     "text": [
      "\n",
      "==========================================\n",
      "                  Dependent variable:     \n",
      "             -----------------------------\n",
      "                        crmrte            \n",
      "------------------------------------------\n",
      "prbarr            -0.001*** (0.0002)      \n",
      "prbconv           -0.0003*** (0.0001)     \n",
      "prbpris             0.0001 (0.0002)       \n",
      "avgsen              -0.0003 (0.001)       \n",
      "polpc              12.197** (3.932)       \n",
      "Constant            0.048** (0.017)       \n",
      "------------------------------------------\n",
      "Observations              90              \n",
      "Adjusted R2              0.516            \n",
      "==========================================\n",
      "Note:        *p<0.05; **p<0.01; ***p<0.001\n"
     ]
    }
   ],
   "source": [
    "se.model1 <- sqrt(diag(vcovHC(model1)))\n",
    "\n",
    "stargazer(model1, type=\"text\", keep.stat=c(\"n\", \"adj.rsq\"), single.row=TRUE,\n",
    "         se = list(se.model1), star.cutoffs = c(0.05, 0.01, 0.001))"
   ]
  },
  {
   "cell_type": "markdown",
   "metadata": {},
   "source": [
    "We first note the first two significant results for our parameter coefficients- those for prbarr (probability of arrest) and prbconv (probability of conviction).\n",
    "\n",
    "The sign of these two probabilities are negative, indicating that increasing the probability of arrest or the probability of conviction (while holding all other factors constant) will indeed reduce the crime rate.\n",
    "\n",
    "The size of the effect is also important to consider: An increase in the probability of arrest of a single percentage point will decrease the crime rate by 0.001, and an increase in the probability of conviction of a single percentage point will decrease the crime rate by 0.0003. Under this model, the government should undergo a further cost/benefit analysis to determine if allocating its resources to increase these probabilites is worth the payoff.\n",
    "\n",
    "The coefficients on prbpris and avgsen are not statistically significant, so we fail to reject the null hypothesis that these individual coeffecients are actually 0.\n",
    "\n",
    "We next question whether or not these variables (prbpris and avgsen) are jointly significant. We run a linear hypothesis test with the null hypothesis test that both these parameter coefficients are equal to zero. If our result is not statistically signifant, we have reason to believe we can remove these variables from our model."
   ]
  },
  {
   "cell_type": "code",
   "execution_count": 28,
   "metadata": {},
   "outputs": [
    {
     "data": {
      "text/html": [
       "<table>\n",
       "<thead><tr><th scope=col>Res.Df</th><th scope=col>Df</th><th scope=col>F</th><th scope=col>Pr(&gt;F)</th></tr></thead>\n",
       "<tbody>\n",
       "\t<tr><td>86       </td><td>NA       </td><td>       NA</td><td>      NA </td></tr>\n",
       "\t<tr><td>84       </td><td> 2       </td><td>0.3726652</td><td>0.690029 </td></tr>\n",
       "</tbody>\n",
       "</table>\n"
      ],
      "text/latex": [
       "\\begin{tabular}{r|llll}\n",
       " Res.Df & Df & F & Pr(>F)\\\\\n",
       "\\hline\n",
       "\t 86        & NA        &        NA &       NA \\\\\n",
       "\t 84        &  2        & 0.3726652 & 0.690029 \\\\\n",
       "\\end{tabular}\n"
      ],
      "text/markdown": [
       "\n",
       "| Res.Df | Df | F | Pr(>F) |\n",
       "|---|---|---|---|\n",
       "| 86        | NA        |        NA |       NA  |\n",
       "| 84        |  2        | 0.3726652 | 0.690029  |\n",
       "\n"
      ],
      "text/plain": [
       "  Res.Df Df F         Pr(>F)  \n",
       "1 86     NA        NA       NA\n",
       "2 84      2 0.3726652 0.690029"
      ]
     },
     "metadata": {},
     "output_type": "display_data"
    }
   ],
   "source": [
    "linearHypothesis(model1, c(\"prbpris=0\", \"avgsen=0\") , vcov=vcovHC)"
   ]
  },
  {
   "cell_type": "markdown",
   "metadata": {},
   "source": [
    "With a p-value of 0.69, we fail to reject the null hypothesis that both coefficients are equal to 0. We now have reason to remove the variables from our model, but we elect to keep them as we continue to build our model (including additional variables). \n",
    "\n",
    "The statistically significant estimated coefficient on police per capita is a noteworthy calculation--it is positive, indicating that an increase in police per capita is associated with an increase in crime rate.  Misinterpreted, readers would use argue to decrease the size of the police force in counties with high crime rates. We do not recommend such action based on our analysis thus far. We have reason to believe there is omitted variable bias. Police per capita is likely higher in areas with demographic factors associated with higher crime rates. Because of these correlations, the omitted variable bias would be positive, meaning we have overestimated the parameter coefficient for police per capita. We seek to address this issue as we build upon our base model in subsequent models.\n",
    "\n",
    "Finally, we note an adjusted R-squared value of 0.516 for our base model, informing us the explanatory variables in our model account for roughly 52% of the variation in crime rate.\n",
    "\n",
    "While we cannot claim causality, the results of our linear regression base model allow us to return and consider our original research question (and subquestions): \n",
    "\n",
    "Do the probability of arrest, the probability of conviction, the probability of a prison sentence, average length of a prison sentence, and police per capita impact the crime rate?\n",
    "- Does increasing the probability of arrest, conviction, and a prison sentence decrease the crime rate (by deterring potential criminals)?\n",
    "\n",
    "From this regression model, we reject the null hypothesis that the parameter coefficients of the probability of arrest and the probability of conviction are equal to zero. Increases in each of these two probabilities are associated with decreases in crime rate. \n",
    "\n",
    "We fail to reject the null hypothesis that the parameter coefficient for the probability of a prison sentence is equal to zero. \n",
    "\n",
    "- Does lengthening prison sentences lower crime rate (again, by deterring potential criminals)?\n",
    "\n",
    "From this regression model, we fail to reject the null hypothesis that the parameter coefficient of average sentence length is equal to zero. In regards to government policy, we are not able to recommend increasing sentence lengths as a measure to reduce crime rate.\n",
    "\n",
    "- Does increasing police presence in a county reduce the crime rate?\n",
    "\n",
    "From this regression model, we reject the null hypothesis that the parameter coefficient of police per capita is equal to zero. However, police per capita appears to be positively correlated with crime rate.  Because of this, we suspect there may be some omitted variable bias and plan to further test the robustness of this relationship as we add more variables in our next two models.\n",
    "\n",
    "For a better understanding of crime, we seek to build upon our base model and incorporate other demographic factors we believe will influence our outcome variable of interest."
   ]
  },
  {
   "cell_type": "markdown",
   "metadata": {},
   "source": [
    "### Regression Model: Second Model\n",
    "\n",
    "Building off our initial model, we wish to examine some other demographic explanatory variables: \n",
    "- density: people per square mile\n",
    "- pctmin80: percent minority (1980)\n",
    "- pctymle: percent young male\n",
    "\n",
    "Governments can indirectly control these variables through public policy incentives. Therefore, we added these demographic variables as controls in our second model."
   ]
  },
  {
   "cell_type": "code",
   "execution_count": 29,
   "metadata": {},
   "outputs": [],
   "source": [
    "model2 <- lm(crmrte ~ prbarr + prbconv + prbpris + avgsen + polpc +\n",
    "            density + pctymle + pctmin80, data=d)"
   ]
  },
  {
   "cell_type": "markdown",
   "metadata": {},
   "source": [
    "## Checking the CLM assumptions for our second model\n",
    "\n",
    "### MLR.1: Linear in parameters\n",
    "\n",
    "Our second model is still linear, following the standard form\n",
    "$$ y = \\beta_0 + \\beta_1 x_1 + ... + \\beta_k x_k + u $$\n",
    "\n",
    "### MLR.2: Random Sampling\n",
    "\n",
    "We continue to assume our data points were drawn randomly and are iid.\n",
    "\n",
    "### MLR.3 No perfect multicolinearity\n",
    "\n",
    "As in our first model, we can test for multicollinearity by looking at the VIF of our model."
   ]
  },
  {
   "cell_type": "code",
   "execution_count": 30,
   "metadata": {},
   "outputs": [
    {
     "data": {
      "text/html": [
       "<dl class=dl-horizontal>\n",
       "\t<dt>prbarr</dt>\n",
       "\t\t<dd>1.51601225877481</dd>\n",
       "\t<dt>prbconv</dt>\n",
       "\t\t<dd>1.38619738937361</dd>\n",
       "\t<dt>prbpris</dt>\n",
       "\t\t<dd>1.06768116498815</dd>\n",
       "\t<dt>avgsen</dt>\n",
       "\t\t<dd>1.13673810654066</dd>\n",
       "\t<dt>polpc</dt>\n",
       "\t\t<dd>1.25740283632732</dd>\n",
       "\t<dt>density</dt>\n",
       "\t\t<dd>1.43803186846162</dd>\n",
       "\t<dt>pctymle</dt>\n",
       "\t\t<dd>1.12667750328404</dd>\n",
       "\t<dt>pctmin80</dt>\n",
       "\t\t<dd>1.10293782598419</dd>\n",
       "</dl>\n"
      ],
      "text/latex": [
       "\\begin{description*}\n",
       "\\item[prbarr] 1.51601225877481\n",
       "\\item[prbconv] 1.38619738937361\n",
       "\\item[prbpris] 1.06768116498815\n",
       "\\item[avgsen] 1.13673810654066\n",
       "\\item[polpc] 1.25740283632732\n",
       "\\item[density] 1.43803186846162\n",
       "\\item[pctymle] 1.12667750328404\n",
       "\\item[pctmin80] 1.10293782598419\n",
       "\\end{description*}\n"
      ],
      "text/markdown": [
       "prbarr\n",
       ":   1.51601225877481prbconv\n",
       ":   1.38619738937361prbpris\n",
       ":   1.06768116498815avgsen\n",
       ":   1.13673810654066polpc\n",
       ":   1.25740283632732density\n",
       ":   1.43803186846162pctymle\n",
       ":   1.12667750328404pctmin80\n",
       ":   1.10293782598419\n",
       "\n"
      ],
      "text/plain": [
       "  prbarr  prbconv  prbpris   avgsen    polpc  density  pctymle pctmin80 \n",
       "1.516012 1.386197 1.067681 1.136738 1.257403 1.438032 1.126678 1.102938 "
      ]
     },
     "metadata": {},
     "output_type": "display_data"
    }
   ],
   "source": [
    "vif(model2)"
   ]
  },
  {
   "cell_type": "markdown",
   "metadata": {},
   "source": [
    "The VIFs for each of our variables do not provide evidence of multicollinearity, as all values  are close to 1 and well below 4.\n",
    "\n",
    "### MLR.4: Zero-conditional Mean\n",
    "\n",
    "To test the zero-conditional mean assumption, we call the Residuals vs. Fitted plot of our model."
   ]
  },
  {
   "cell_type": "code",
   "execution_count": 31,
   "metadata": {},
   "outputs": [
    {
     "data": {
      "image/png": "[encoded data removed]",
      "text/plain": [
       "Plot with title \"\""
      ]
     },
     "metadata": {},
     "output_type": "display_data"
    }
   ],
   "source": [
    "plot(model2, which = 1)"
   ]
  },
  {
   "cell_type": "markdown",
   "metadata": {},
   "source": [
    "To meet the zero-conditional mean assumption, we would expect to see the scatterplot fitted around 0. While the red smoothing curve representing the residual mean begins above zero for smaller fitted values, it does begin to track zero for fitted values greater than (roughly) 0.02. This is a great improvement over our base model, which had a clear violation of the zero-conditional mean assumption. \n",
    "\n",
    "While the slight bump in the mean for small fitted values may indicate a slight violation of our assumption, we still have a sample size greater than 30 (recall we have data from 90 counties),  allowing us to rely on OLS asymptotics, as we did for our base model.\n",
    "\n",
    "### MLR.5: Homoskedasticity\n",
    "\n",
    "The Residuals vs. Fitted plot shows a smaller vertical band on the left side, then the right side, so the variance in the distribution is not equal. Therefore, we analyze the Scale-Location plot of our model to check for heteroskedasticity."
   ]
  },
  {
   "cell_type": "code",
   "execution_count": 32,
   "metadata": {},
   "outputs": [
    {
     "data": {
      "image/png": "[encoded data removed]",
      "text/plain": [
       "Plot with title \"\""
      ]
     },
     "metadata": {},
     "output_type": "display_data"
    }
   ],
   "source": [
    "plot(model2, which = 3)"
   ]
  },
  {
   "cell_type": "markdown",
   "metadata": {},
   "source": [
    "As we noted previously, we would expect the data points to track a flat horizontal line if we had homoskedasticity. While the points on this plot track a flatter line than they did for our base model (as shown by the red smoothing curve), we still see a large amount of scatter indicated heteroskedasticity. Ae before, we will use heteroskedasticity robust standard errors for this model.\n",
    "\n",
    "### MLR.6 Normal Error Term\n",
    "\n",
    "We analyze the histogram of our model residuals to verify they are normally distributed. We simultaneously run a shapiro test to check for normality (again with a null hypothesis that the residuals are indeed normally distributed)."
   ]
  },
  {
   "cell_type": "code",
   "execution_count": 33,
   "metadata": {},
   "outputs": [
    {
     "data": {
      "text/plain": [
       "\n",
       "\tShapiro-Wilk normality test\n",
       "\n",
       "data:  model2$residuals\n",
       "W = 0.97239, p-value = 0.05221\n"
      ]
     },
     "metadata": {},
     "output_type": "display_data"
    },
    {
     "data": {
      "image/png": "[encoded data removed]",
      "text/plain": [
       "Plot with title \"Histogram of Model Residuals\""
      ]
     },
     "metadata": {},
     "output_type": "display_data"
    }
   ],
   "source": [
    "hist(model2$residuals, breaks= 12, main=\"Histogram of Model Residuals\", \n",
    "     xlab=\"Residual\")\n",
    "shapiro.test(model2$residuals)"
   ]
  },
  {
   "cell_type": "markdown",
   "metadata": {},
   "source": [
    "The histogram shows the distribution of residuals has a slight positive skew. The shapiro test also calculates a p-value of 0.05, so we narrowly fail to reject the null hypothesis that the residuals are normally distributed. Therefore, we do not have evidence this assumption has been violated.\n",
    "\n",
    "### Check for Influential Points\n",
    "\n",
    "As in our first model, we check for influential points through Cook's distance."
   ]
  },
  {
   "cell_type": "code",
   "execution_count": 34,
   "metadata": {},
   "outputs": [
    {
     "data": {
      "image/png": "[encoded data removed]",
      "text/plain": [
       "Plot with title \"\""
      ]
     },
     "metadata": {},
     "output_type": "display_data"
    }
   ],
   "source": [
    "plot(model2, which = 5)"
   ]
  },
  {
   "cell_type": "markdown",
   "metadata": {},
   "source": [
    "While one data point has Cook's distance greater than 0.5, none have values greater than 1. At this point we do not need to be concerned about points with high influence in our model.\n",
    "\n",
    "## Interpreting Results (Second Model)\n",
    "\n",
    "We now turn to the estimated parameter coefficients and their (heteroskedasticity robust) standard errors of our second model, and compare them to those of our base model."
   ]
  },
  {
   "cell_type": "code",
   "execution_count": 35,
   "metadata": {},
   "outputs": [
    {
     "name": "stdout",
     "output_type": "stream",
     "text": [
      "\n",
      "=====================================================\n",
      "                       Dependent variable:           \n",
      "             ----------------------------------------\n",
      "                              crmrte                 \n",
      "                     (1)                 (2)         \n",
      "-----------------------------------------------------\n",
      "prbarr       -0.001*** (0.0002)   -0.001*** (0.0001) \n",
      "prbconv      -0.0003*** (0.0001) -0.0002*** (0.00005)\n",
      "prbpris        0.0001 (0.0002)    -0.00003 (0.0001)  \n",
      "avgsen         -0.0003 (0.001)     -0.0002 (0.0004)  \n",
      "polpc         12.197** (3.932)      7.974 (4.543)    \n",
      "density                            0.006*** (0.001)  \n",
      "pctymle                             0.064 (0.052)    \n",
      "pctmin80                          0.0004*** (0.0001) \n",
      "Constant       0.048** (0.017)     0.030** (0.012)   \n",
      "-----------------------------------------------------\n",
      "Observations         90                   90         \n",
      "Adjusted R2         0.516               0.788        \n",
      "=====================================================\n",
      "Note:                   *p<0.05; **p<0.01; ***p<0.001\n"
     ]
    }
   ],
   "source": [
    "# Adjusting for heteroskedacity.\n",
    "se.model2 <- sqrt(diag(vcovHC(model2)))\n",
    "\n",
    "stargazer(model1, model2,\n",
    "          type=\"text\", keep.stat=c(\"n\", \"adj.rsq\"), se=list(se.model1,\n",
    "          se.model2), single.row=TRUE, star.cutoffs = c(0.05, 0.01, 0.001))"
   ]
  },
  {
   "cell_type": "markdown",
   "metadata": {},
   "source": [
    "We note that the estimated coefficients for prbarr and prbconv are almost the same (within the standard error) as in our base model and are still statistically significant at the 0.1% level. The coefficients for prbpris and avgsen remain statistically insignificant.\n",
    "\n",
    "The estimated coefficient for police per capita drops (although estimates from the two different models are within the standard errors of each other). In our second model, the coefficient for police per capita is no longer statistically significant, this change indicates some relationship between police per capita and our newly included demographic control variables.  Unlike the other variables, polpc does not possess robustness required with new regressor variables.\n",
    "\n",
    "The estimated coefficients for density and percent minority are both significant at the 0.1% level. While this is not immediately actionable for government policy, it is important to recognize these factors as important controls in our regression model. Areas with higher population density and areas with a higher proportion of minorities are associated with higher crime rates (as both estimated coefficients are positive).\n",
    "\n",
    "The coefficient for percent young male is positive, yet not statistically significant. As we continue to tinker with our model, we examine whether or not police per capita and percent young male may be related in some way, and therefore jointly significant in our regression model, despite the fact that both are individually statistically insignificant. To further examine, we run a joint significance test with the two variables, with the null hypothesis that the coefficients of both parameters are equal to zero."
   ]
  },
  {
   "cell_type": "code",
   "execution_count": 36,
   "metadata": {},
   "outputs": [
    {
     "data": {
      "text/html": [
       "<table>\n",
       "<thead><tr><th scope=col>Res.Df</th><th scope=col>Df</th><th scope=col>F</th><th scope=col>Pr(&gt;F)</th></tr></thead>\n",
       "<tbody>\n",
       "\t<tr><td>83        </td><td>NA        </td><td>      NA  </td><td>        NA</td></tr>\n",
       "\t<tr><td>81        </td><td> 2        </td><td>4.285531  </td><td>0.01701573</td></tr>\n",
       "</tbody>\n",
       "</table>\n"
      ],
      "text/latex": [
       "\\begin{tabular}{r|llll}\n",
       " Res.Df & Df & F & Pr(>F)\\\\\n",
       "\\hline\n",
       "\t 83         & NA         &       NA   &         NA\\\\\n",
       "\t 81         &  2         & 4.285531   & 0.01701573\\\\\n",
       "\\end{tabular}\n"
      ],
      "text/markdown": [
       "\n",
       "| Res.Df | Df | F | Pr(>F) |\n",
       "|---|---|---|---|\n",
       "| 83         | NA         |       NA   |         NA |\n",
       "| 81         |  2         | 4.285531   | 0.01701573 |\n",
       "\n"
      ],
      "text/plain": [
       "  Res.Df Df F        Pr(>F)    \n",
       "1 83     NA       NA         NA\n",
       "2 81      2 4.285531 0.01701573"
      ]
     },
     "metadata": {},
     "output_type": "display_data"
    }
   ],
   "source": [
    "linearHypothesis(model2, c(\"polpc=0\", \"pctymle=0\") , vcov=vcovHC)"
   ]
  },
  {
   "cell_type": "markdown",
   "metadata": {},
   "source": [
    "With a p-value of 0.017, we reject the null hypothesis at 5% significance level that both parameter coefficients are equal to zero. The variables are jointly significant. There must be some relationship between police per capita and percent young male that is important in our regression. \n",
    "\n",
    "By testing our initial model with more variables, we could test for robustness.  We want to make policy proposals off causality instead of correlation, but is difficult since our data is observational.  For obvious reasons, we aren't able to randomize which county people live in.  There's also a lot of difficulty with omitted variable bias when you are dealing with a model for human behavior.  For those variables that do appear to have statistical significance, it's also difficult to detect which direction a potential causal relationship goes.  Does a high probability of arrest cause a low crime rate, or does a low rate of crime mean that it's easier for police to apprehend a high percentage of criminals?\n",
    "\n",
    "While we can't yet point to any absolute evidence of a causal relationship, we are able to start feeling better about probability of arrest and probability of conviction; which is the most that we could hope for given that there's no test for causality.  The fact that these regressor coefficients maintained their statistical significance as we introduced new statistically significant variables, indicates that they are likely to maintain their significance as we continue to refine the model.\n",
    "\n",
    "We return to consider our research questions, now armed with the results of this second model:\n",
    "\n",
    "Do the probability of arrest, the probability of conviction, the probability of a prison sentence, average length of a prison sentence, and police per capita impact the crime rate?\n",
    "- Does increasing the probability of arrest, conviction, and a prison sentence decrease the crime rate (by deterring potential criminals)?\n",
    "\n",
    "In our second model as well as our first, we reject the null hypothesis that the parameter coefficients of the probability of arrest and the probability of conviction are equal to zero. Increases in each of these two probabilities are associated with decreases in crime rate. \n",
    "\n",
    "We fail to reject the null hypothesis that the parameter coefficient for the probability of a prison sentence is equal to zero. \n",
    "\n",
    "- Does lengthening prison sentences lower crime rate (again, by deterring potential criminals)?\n",
    "\n",
    "In both our regression models, we fail to reject the null hypothesis that the parameter coefficient of average sentence length is equal to zero. In regards to government policy, we are not able to recommend increasing sentence lengths as a measure to reduce crime rate.\n",
    "\n",
    "- Does increasing police presence in a county reduce the crime rate?\n",
    "\n",
    "In contrast to our first model, in our second model we fail to reject the null hypothesis that the parameter coefficient of police per capita is equal to zero. We have reason to believe police per capita is positively correlated with other factors (seen and unseen) that are also positively correlated with crime rate; we suspect there may be some omitted variable bias and plan to further test the robustness of this relationship as we add more variables in our next model."
   ]
  },
  {
   "cell_type": "markdown",
   "metadata": {},
   "source": [
    "# Regression Model: Third Model\n",
    "\n",
    "We continue to build upon our previous models from the other covariates from the data set. A key purpose of this model is to demonstrate the robustness of our results to model specification.\n",
    "\n",
    "In our new model we include economic variables: tax per capita and all the wage-related variables that may be related with a county's crime rate as controls. "
   ]
  },
  {
   "cell_type": "code",
   "execution_count": 37,
   "metadata": {},
   "outputs": [],
   "source": [
    "model3 <- lm(crmrte ~ prbarr + prbconv + prbpris + avgsen + polpc + \n",
    "             density + pctymle + pctmin80  \n",
    "            + taxpc + wcon + wtuc + wtrd + wfir + wser +wmfg + wfed + wsta + wloc,\n",
    "            data = d)"
   ]
  },
  {
   "cell_type": "markdown",
   "metadata": {},
   "source": [
    "## Checking the CLM assumptions for our third model\n",
    "\n",
    "### MLR.1: Linear in parameters\n",
    "\n",
    "Our third model remains linear, following the standard form\n",
    "$$ y = \\beta_0 + \\beta_1 x_1 + ... + \\beta_k x_k + u $$\n",
    "\n",
    "### MLR.2: Random Sampling\n",
    "\n",
    "We continue to assume our data points were drawn randomly and are iid.\n",
    "\n",
    "### MLR.3 No perfect multicolinearity\n",
    "\n",
    "As in our first and second model, we can test for multicollinearity by looking at the VIF of our model."
   ]
  },
  {
   "cell_type": "code",
   "execution_count": 38,
   "metadata": {},
   "outputs": [
    {
     "data": {
      "text/html": [
       "<dl class=dl-horizontal>\n",
       "\t<dt>prbarr</dt>\n",
       "\t\t<dd>1.66992245064698</dd>\n",
       "\t<dt>prbconv</dt>\n",
       "\t\t<dd>2.09407861752015</dd>\n",
       "\t<dt>prbpris</dt>\n",
       "\t\t<dd>1.14788801382453</dd>\n",
       "\t<dt>avgsen</dt>\n",
       "\t\t<dd>1.37852754640415</dd>\n",
       "\t<dt>polpc</dt>\n",
       "\t\t<dd>1.93992293609903</dd>\n",
       "\t<dt>density</dt>\n",
       "\t\t<dd>2.3958759587356</dd>\n",
       "\t<dt>pctymle</dt>\n",
       "\t\t<dd>1.36145531749921</dd>\n",
       "\t<dt>pctmin80</dt>\n",
       "\t\t<dd>1.24354887763187</dd>\n",
       "\t<dt>taxpc</dt>\n",
       "\t\t<dd>2.09347761840414</dd>\n",
       "\t<dt>wcon</dt>\n",
       "\t\t<dd>2.06380999207665</dd>\n",
       "\t<dt>wtuc</dt>\n",
       "\t\t<dd>1.69005365043722</dd>\n",
       "\t<dt>wtrd</dt>\n",
       "\t\t<dd>3.13918487550617</dd>\n",
       "\t<dt>wfir</dt>\n",
       "\t\t<dd>2.67481579801539</dd>\n",
       "\t<dt>wser</dt>\n",
       "\t\t<dd>1.54790667230568</dd>\n",
       "\t<dt>wmfg</dt>\n",
       "\t\t<dd>1.85526922847472</dd>\n",
       "\t<dt>wfed</dt>\n",
       "\t\t<dd>2.91420045947514</dd>\n",
       "\t<dt>wsta</dt>\n",
       "\t\t<dd>1.51335652519106</dd>\n",
       "\t<dt>wloc</dt>\n",
       "\t\t<dd>2.22564392235869</dd>\n",
       "</dl>\n"
      ],
      "text/latex": [
       "\\begin{description*}\n",
       "\\item[prbarr] 1.66992245064698\n",
       "\\item[prbconv] 2.09407861752015\n",
       "\\item[prbpris] 1.14788801382453\n",
       "\\item[avgsen] 1.37852754640415\n",
       "\\item[polpc] 1.93992293609903\n",
       "\\item[density] 2.3958759587356\n",
       "\\item[pctymle] 1.36145531749921\n",
       "\\item[pctmin80] 1.24354887763187\n",
       "\\item[taxpc] 2.09347761840414\n",
       "\\item[wcon] 2.06380999207665\n",
       "\\item[wtuc] 1.69005365043722\n",
       "\\item[wtrd] 3.13918487550617\n",
       "\\item[wfir] 2.67481579801539\n",
       "\\item[wser] 1.54790667230568\n",
       "\\item[wmfg] 1.85526922847472\n",
       "\\item[wfed] 2.91420045947514\n",
       "\\item[wsta] 1.51335652519106\n",
       "\\item[wloc] 2.22564392235869\n",
       "\\end{description*}\n"
      ],
      "text/markdown": [
       "prbarr\n",
       ":   1.66992245064698prbconv\n",
       ":   2.09407861752015prbpris\n",
       ":   1.14788801382453avgsen\n",
       ":   1.37852754640415polpc\n",
       ":   1.93992293609903density\n",
       ":   2.3958759587356pctymle\n",
       ":   1.36145531749921pctmin80\n",
       ":   1.24354887763187taxpc\n",
       ":   2.09347761840414wcon\n",
       ":   2.06380999207665wtuc\n",
       ":   1.69005365043722wtrd\n",
       ":   3.13918487550617wfir\n",
       ":   2.67481579801539wser\n",
       ":   1.54790667230568wmfg\n",
       ":   1.85526922847472wfed\n",
       ":   2.91420045947514wsta\n",
       ":   1.51335652519106wloc\n",
       ":   2.22564392235869\n",
       "\n"
      ],
      "text/plain": [
       "  prbarr  prbconv  prbpris   avgsen    polpc  density  pctymle pctmin80 \n",
       "1.669922 2.094079 1.147888 1.378528 1.939923 2.395876 1.361455 1.243549 \n",
       "   taxpc     wcon     wtuc     wtrd     wfir     wser     wmfg     wfed \n",
       "2.093478 2.063810 1.690054 3.139185 2.674816 1.547907 1.855269 2.914200 \n",
       "    wsta     wloc \n",
       "1.513357 2.225644 "
      ]
     },
     "metadata": {},
     "output_type": "display_data"
    }
   ],
   "source": [
    "vif(model3)"
   ]
  },
  {
   "cell_type": "markdown",
   "metadata": {},
   "source": [
    "While the VIFs are larger here than our previous models, the variable with largest VIF (wtrd) of 3.1 is still below 4, so we do not have evidence of perfect multicollinearity.\n",
    "\n",
    "### MLR.4 Zero Conditional Mean\n",
    "\n",
    "We will again call on the Residuals vs. Fitted plot for our model to check the zero-conditional mean assumption."
   ]
  },
  {
   "cell_type": "code",
   "execution_count": 39,
   "metadata": {},
   "outputs": [
    {
     "data": {
      "image/png": "[encoded data removed]",
      "text/plain": [
       "Plot with title \"\""
      ]
     },
     "metadata": {},
     "output_type": "display_data"
    }
   ],
   "source": [
    "plot(model3, which = 1)"
   ]
  },
  {
   "cell_type": "markdown",
   "metadata": {},
   "source": [
    "Similarly to our second model the red smoothing curve (representing the residual mean) begins above zero for smaller fitted values but then tracks zero for fitted values greater than 0.02. \n",
    "\n",
    "As before, ths slight bump to the left of the plot may indicate a slight violation of our assumption, but we can still rely on OLS asymptotics (given our large sample size), as we did for our previous models.\n",
    "\n",
    "### MLR.5: Homoskedasticity\n",
    "\n",
    "We analyze the Scale-Location plot of our model to check for heteroskedasticity."
   ]
  },
  {
   "cell_type": "code",
   "execution_count": 40,
   "metadata": {},
   "outputs": [
    {
     "data": {
      "image/png": "[encoded data removed]",
      "text/plain": [
       "Plot with title \"\""
      ]
     },
     "metadata": {},
     "output_type": "display_data"
    }
   ],
   "source": [
    "plot(model3, which = 3)"
   ]
  },
  {
   "cell_type": "markdown",
   "metadata": {},
   "source": [
    "The scale location plot reveals a large amount of scatter, giving us evidence of heteroskedasticity. Thus the need for heteroskedasticity robust standard errors for our model. \n",
    "\n",
    "### Check for Influential Points\n",
    "\n",
    "Finally, we turn to check for points with high influence by calling the plot of Residuals vs. Leverage. Again, we are looking for points with a Cook's distance greater than 1 for further investigation."
   ]
  },
  {
   "cell_type": "code",
   "execution_count": 41,
   "metadata": {},
   "outputs": [
    {
     "name": "stderr",
     "output_type": "stream",
     "text": [
      "Warning message in sqrt(crit * p * (1 - hh)/hh):\n",
      "\"NaNs produced\"Warning message in sqrt(crit * p * (1 - hh)/hh):\n",
      "\"NaNs produced\""
     ]
    },
    {
     "data": {
      "image/png": "[encoded data removed]",
      "text/plain": [
       "Plot with title \"\""
      ]
     },
     "metadata": {},
     "output_type": "display_data"
    }
   ],
   "source": [
    "plot(model3, which = 5)"
   ]
  },
  {
   "cell_type": "markdown",
   "metadata": {},
   "source": [
    "We have two points with Cook's distance greater than 1. This suggests that these two counties have a high leverage and influence over the model. County 25 and 94 became more influential from model 2 to model 3 due to the addition of the added economic variables to the model.\n",
    "\n",
    "For now, we've elected to leave these outliers alone.  We're only really using our third model to evaluate how robust our initial model is.  If we had a more precise intent in mind for our third model these variables might warrant additional examination.\n",
    "\n",
    "\n",
    "## Interpreting Results (Third Model)\n",
    "We now consider the model's estimated parameter coefficients and standard errors (alongside those of our second model)"
   ]
  },
  {
   "cell_type": "code",
   "execution_count": 42,
   "metadata": {},
   "outputs": [
    {
     "name": "stdout",
     "output_type": "stream",
     "text": [
      "\n",
      "====================================================\n",
      "                       Dependent variable:          \n",
      "             ---------------------------------------\n",
      "                             crmrte                 \n",
      "                     (1)                 (2)        \n",
      "----------------------------------------------------\n",
      "prbarr        -0.001*** (0.0001)  -0.001*** (0.0002)\n",
      "prbconv      -0.0002*** (0.00005) -0.0002** (0.0001)\n",
      "prbpris       -0.00003 (0.0001)   -0.00003 (0.0001) \n",
      "avgsen         -0.0002 (0.0004)    -0.0003 (0.0005) \n",
      "polpc           7.974 (4.543)       5.285 (4.173)   \n",
      "density        0.006*** (0.001)    0.005** (0.002)  \n",
      "pctymle         0.064 (0.052)      0.126** (0.045)  \n",
      "pctmin80      0.0004*** (0.0001)  0.0004*** (0.0001)\n",
      "taxpc                              0.0002 (0.0003)  \n",
      "wcon                              0.00001 (0.00003) \n",
      "wtuc                              0.00001 (0.00002) \n",
      "wtrd                               0.00002 (0.0001) \n",
      "wfir                              -0.00004 (0.00003)\n",
      "wser                              -0.00000 (0.0001) \n",
      "wmfg                              -0.00001 (0.00002)\n",
      "wfed                              0.00004 (0.00004) \n",
      "wsta                              -0.00003 (0.00003)\n",
      "wloc                               0.00002 (0.0001) \n",
      "Constant       0.030** (0.012)      0.009 (0.026)   \n",
      "----------------------------------------------------\n",
      "Observations          90                  90        \n",
      "Adjusted R2         0.788               0.804       \n",
      "====================================================\n",
      "Note:                  *p<0.05; **p<0.01; ***p<0.001\n"
     ]
    }
   ],
   "source": [
    "# Adjusting for heteroskedasticity\n",
    "se.model3 <- sqrt(diag(vcovHC(model3)))\n",
    "\n",
    "stargazer(model2, model3,\n",
    "          type=\"text\", keep.stat=c(\"n\", \"adj.rsq\"), se=list( se.model2,se.model3), \n",
    "          single.row=TRUE, star.cutoffs = c(0.05, 0.01, 0.001))"
   ]
  },
  {
   "cell_type": "markdown",
   "metadata": {},
   "source": [
    "We note the new economic factors we added are not statistically significant on their own.\n",
    "We check if they are jointly significant. Null hypothesis that they all have coefficients that are equal to zero."
   ]
  },
  {
   "cell_type": "code",
   "execution_count": 43,
   "metadata": {},
   "outputs": [
    {
     "data": {
      "text/html": [
       "<table>\n",
       "<thead><tr><th scope=col>Res.Df</th><th scope=col>Df</th><th scope=col>F</th><th scope=col>Pr(&gt;F)</th></tr></thead>\n",
       "<tbody>\n",
       "\t<tr><td>81       </td><td>NA       </td><td>       NA</td><td>       NA</td></tr>\n",
       "\t<tr><td>71       </td><td>10       </td><td>0.9563955</td><td>0.4885405</td></tr>\n",
       "</tbody>\n",
       "</table>\n"
      ],
      "text/latex": [
       "\\begin{tabular}{r|llll}\n",
       " Res.Df & Df & F & Pr(>F)\\\\\n",
       "\\hline\n",
       "\t 81        & NA        &        NA &        NA\\\\\n",
       "\t 71        & 10        & 0.9563955 & 0.4885405\\\\\n",
       "\\end{tabular}\n"
      ],
      "text/markdown": [
       "\n",
       "| Res.Df | Df | F | Pr(>F) |\n",
       "|---|---|---|---|\n",
       "| 81        | NA        |        NA |        NA |\n",
       "| 71        | 10        | 0.9563955 | 0.4885405 |\n",
       "\n"
      ],
      "text/plain": [
       "  Res.Df Df F         Pr(>F)   \n",
       "1 81     NA        NA        NA\n",
       "2 71     10 0.9563955 0.4885405"
      ]
     },
     "metadata": {},
     "output_type": "display_data"
    }
   ],
   "source": [
    "linearHypothesis(model3, c(\"wcon=0\", \"wtuc=0\",\"wtrd=0\", \"wfir=0\",\n",
    "                          \"wser=0\",\"wmfg=0\",\"wfed=0\",\"wsta=0\",\"wloc=0\", \"polpc=0\"),\n",
    "                 vcov=vcovHC)"
   ]
  },
  {
   "cell_type": "markdown",
   "metadata": {},
   "source": [
    "We cannot reject the null hypothesis that all the coefficients are equal to zero. We also note that The adjusted R-squared increased only mildly from our second model to our third (from 0.788 to 0.804). Therefore, the added variables do not seem to offer us much additional information when this model is compared to our second model. Nevertheless, we will examine how the estimated coefficients of the variables change between models 1, 2, and 3 in our regression table."
   ]
  },
  {
   "cell_type": "markdown",
   "metadata": {},
   "source": [
    "# The Regression Table"
   ]
  },
  {
   "cell_type": "code",
   "execution_count": 44,
   "metadata": {},
   "outputs": [
    {
     "name": "stdout",
     "output_type": "stream",
     "text": [
      "\n",
      "Regression Results\n",
      "==========================================================================================\n",
      "                                                   Dependent variable:                    \n",
      "                               -----------------------------------------------------------\n",
      "                                                    County Crime Rate                     \n",
      "                                       (1)                 (2)                 (3)        \n",
      "------------------------------------------------------------------------------------------\n",
      "Probability of Arrest          -0.001*** (0.0002)   -0.001*** (0.0001)  -0.001*** (0.0002)\n",
      "Probability of Conviction      -0.0003*** (0.0001) -0.0002*** (0.00005) -0.0002** (0.0001)\n",
      "Probability of Prison Sentence   0.0001 (0.0002)    -0.00003 (0.0001)   -0.00003 (0.0001) \n",
      "Average Sentence Length          -0.0003 (0.001)     -0.0002 (0.0004)    -0.0003 (0.0005) \n",
      "Police Per Capita               12.197** (3.932)      7.974 (4.543)       5.285 (4.173)   \n",
      "County Density                                       0.006*** (0.001)    0.005** (0.002)  \n",
      "Percent Young Male                                    0.064 (0.052)      0.126** (0.045)  \n",
      "Percent Minority in 1980                            0.0004*** (0.0001)  0.0004*** (0.0001)\n",
      "Tax Per Capita                                                           0.0002 (0.0003)  \n",
      "Construction Weekly Wage                                                0.00001 (0.00003) \n",
      "Trans., Utility, Weekly Wage                                            0.00001 (0.00002) \n",
      "TRD Weekly Wage                                                          0.00002 (0.0001) \n",
      "FIR Weekly Wage                                                         -0.00004 (0.00003)\n",
      "Service Weekly Wage                                                     -0.00000 (0.0001) \n",
      "MFG Weekly Wage                                                         -0.00001 (0.00002)\n",
      "Federal Employee Weekly Wage                                            0.00004 (0.00004) \n",
      "State Employee Weekly Wage                                              -0.00003 (0.00003)\n",
      "Local Employee Weekly Wage                                               0.00002 (0.0001) \n",
      "Constant                         0.048** (0.017)     0.030** (0.012)      0.009 (0.026)   \n",
      "------------------------------------------------------------------------------------------\n",
      "Observations                           90                   90                  90        \n",
      "Adjusted R2                           0.516               0.788               0.804       \n",
      "==========================================================================================\n",
      "Note:                                                        *p<0.05; **p<0.01; ***p<0.001\n"
     ]
    }
   ],
   "source": [
    "stargazer(model1, model2, model3,\n",
    "          title=\"Regression Results\", dep.var.labels=\"County Crime Rate\",\n",
    "          covariate.labels=c(\"Probability of Arrest\",\"Probability of Conviction\", \n",
    "                             \"Probability of Prison Sentence\", \n",
    "                             \"Average Sentence Length\",\n",
    "                             \"Police Per Capita\",\"County Density\",\n",
    "                             \"Percent Young Male\", \"Percent Minority in 1980\", \n",
    "                             \"Tax Per Capita\", \"Construction Weekly Wage\", \n",
    "                             \"Trans., Utility, Weekly Wage\", \"TRD Weekly Wage\", \n",
    "                             \"FIR Weekly Wage\", \"Service Weekly Wage\", \n",
    "                             \"MFG Weekly Wage\", \"Federal Employee Weekly Wage\", \n",
    "                             \"State Employee Weekly Wage\", \n",
    "                             \"Local Employee Weekly Wage\"),\n",
    "          type=\"text\", keep.stat=c(\"n\", \"adj.rsq\"), se=list(se.model1, se.model2,\n",
    "          se.model3), single.row=TRUE, star.cutoffs = c(0.05, 0.01, 0.001))"
   ]
  },
  {
   "cell_type": "markdown",
   "metadata": {},
   "source": [
    "We note that in models 1, 2, and 3, we have many significant variables. In all models, the probability of arrest and probability of conviction are significant in a negative direction. This has practical significance as increasing the probability of arrest would deter others from conducting bad behavior due to the fear or being caught. \n",
    "\n",
    "In models 2 and 3, county density and percent minority in 1980 are significant, despite the added variables in model 3, indicating that these variables are relevant for the explanation of crime rates.\n",
    "\n",
    "In all three models, the probability of arrest, probability of conviction, county density, and percent minority in 1980 regression coefficients stayed nearly the same despite the addition of more variables, so we believe these variables are relevant in our model's prediction of crime rate. The added variables then, helped predict crime rate in our model by reducing some of the omitted variable bias.\n",
    "\n",
    "We also note that there are three interesting outcomes from the regression tables:\n",
    "\n",
    "1. Police per capita is statistically significant in model 1, but not in models 2 or 3. Additionally, the estimated coefficient decreases in value for model 2 and model 3, yet has a higher standard error in models 2 and 3, then model 1. The positive linear regression coefficient for police per capita indicates it's correlation with other variables. The decrease between 30-40% in the linear regression coefficient value from model 1 to model 2 and model 2 to model 3, indicates that an omitted variable bias is likely present that is currently being seen in the Police per capita variable.\n",
    "\n",
    "2. All economic-related explanatory variables were not statistically significant in model 3, which indicates that the addition of average wages or tax per capita for each county, does not indicate any explanation of county crime rates.\n",
    "\n",
    "3. Finally, the regression coefficient for percent young male is not statistically significant in model 2, but exhibits significance for model 3. This revelation indicates that although the economic-explanatory variables may not be relevant to predicting crime rate, percent young male is significant while these variables are present so perhaps there is another omitted variable bias present that affects percent young male in predicting crime rates, but also statistically significant.\n",
    "\n",
    "In examining our data, we believe that a variable reduction approach (starting with many variables and remove the insignificant ones in further models), would remove the probability of prison sentence and the average sentence length. We find it surprising that these variables do not appear to predict crime rates, as they tend to be a critical portion of the judicial incarceration system."
   ]
  },
  {
   "cell_type": "markdown",
   "metadata": {},
   "source": [
    "# Omitted Variables\n",
    "\n",
    "As discussed in the previous section on the regression table, we believe that there may be omitted variable bias from model 1 to model 2 and from model 2 to model 3. The decrease in police per capita from model 1 to model 2 indicates that the demographic explanatory variables were omitted variables from model 1. When we get to model 3, none of the added economic-related wages were statistically significant indicating that none of these variables are omitted variables from model 2. However, there may be another omitted variable out there that affects percent young male, since that variable becomes statisticall significant in model 3 with the addition of the economic variables. We believe that this could be explained by a variable we may not have information for, such as unemployment rates which tend to influence young males to make more law-breaking decisions.\n",
    "\n",
    "We also suspect there are two other potential omitted variables that we do not have data for to explain some of the variance: 1) probability of arrest given a past sentence and 2) police department funding. In both cases, we believe these variables have a relation to both crime rate and the variables through model 1 to 3 such as probability of arrest, police per capita, tax per capita, and so on. Since we cannot detect omitted variable bias without data measures on the omitted variables, we can only argue that our regression equation and estimators for regression coefficients of model 3 are likely vulnerable to omitted variable bias of our identified two potentially omitted variables, which is a limitation from our given data.\n",
    "\n",
    "For probability of arrest given a past sentence, we believe this variable would be in a positive direction in influencing crime rate, because it is known that the impacts of incarceration vary from county to county, but generally has had an unexpected effect of increasing crime due to the inability to reintegrate back into society. Therefore, this omitted variable has a possibility of being correlated with the crime rate due to one person committing more than one crime which would impact the county average for probability of arrest, probability of conviction, and probability of sentence. \n",
    "\n",
    "For police department funding, we believe this variable may be in a negative direction in influencing crime rate, because as police departments receive more funding, they may become more effective in keeping law and order. This omitted variable has a possibility of being correlated with the crime rate since more effective police officers may deter crime and may correlate with police per capita and weekly wage of federal/state employees, which are relating how much money is available to the police department. \n",
    "\n",
    "We mention these potentially omitted variables, because the high value of police per capita from models 1, 2, and 3 indicate that there is an omitted variable bias that is being captured in that regression coefficient value. In summary, we address that our models has three potentially omitted variables: unemployment rates, probability of arrest given a past arrest and police department funding. Without the data, we cannot determine if the variables are related to both crime rate and some of the independent variables, but we can infer that this may be a limitation of our model. "
   ]
  },
  {
   "cell_type": "markdown",
   "metadata": {},
   "source": [
    "# Conclusion \n",
    "\n",
    "In conclusion, we explored the crime_v2.csv data set from Cornwell and Trumball and created three regression models to examine crime rate as a linear combination of policy-related variables, demographic explanatory variables, and economic related variables. Our first model focused on policy-related variables that we can directly impact. Our second model built upon our first model with demographic explanatory variables. Finally, we examined the addition of weekly wages and tax per capita by adding them to our third model. \n",
    "\n",
    "This was done to answer the our research questions (and subquestions) about the impact of the probability of arrest, the probability of conviction, the probability of a prison sentence, average length of a prison sentence, and police per capita on a county's crime rate. Having analyzed all three models, we return to these questions now.\n",
    "\n",
    "- Does increasing the probability of arrest, conviction, and a prison sentence decrease the crime rate (by deterring potential criminals)?\n",
    "\n",
    "In all three models we reject the null hypothesis that the parameter coefficients of the probability of arrest and the probability of conviction are equal to zero. Increases in each of these two probabilities are associated with decreases in crime rate.\n",
    "\n",
    "In all three models we fail to reject the null hypothesis that the parameter coefficient for the probability of a prison sentence is equal to zero. \n",
    "\n",
    "- Does lengthening prison sentences lower crime rate (again, by deterring potential criminals)?\n",
    "\n",
    "In all three regression models, we fail to reject the null hypothesis that the parameter coefficient of average sentence length is equal to zero. \n",
    "\n",
    "- Does increasing police presence in a county reduce the crime rate?\n",
    "\n",
    "In our first model, we rejected the null hypothesis that the parameter coefficient on police per capita is equal to zero. However, when we control for demographic and economic factors in our second and third models. we failed  to reject the null hypothesis that the parameter coefficient of police per capita is equal to zero. We believe police per capita is positively correlated with demographic factors such as density, percent minority, and percent young male  that are themselves positively correlated with crime rate. Indeed, we note that these variables had statistically significant estimated parameter coefficients in our later models.\n",
    "\n",
    "Therefore, we recommend that our client focuses on two policy proposals for their political campaign:\n",
    "\n",
    "1. Investigate public policy that affects police officers and judges to increase the probability of arrest and probability of conviction. By increasing these rates, our second model predicts that crime rate will decrease. Since the regression coefficients for these variables in our second model are -0.001 and -0.0002 respectively, we would not make a direct public policy recommendation, but recommend that a more thorough investigation in each county’s current law enforcement and judge practices could be a low-hanging fruit to lower crime rate. This could be a simple information session for each county’s police chiefs and judges or a state-led investigation by the inspector general. Each county may have different practices and therefore a policy focusing on establishing effective standardized county practices may have the best effect on crime reduction.\n",
    "\n",
    "\n",
    "2.   Finally, we recommend that the political campaign considers the effect of average sentences. The probability of prison sentence and average sentence variables were not statistically significant, indicating these variables in our model do not have a strong effect on crime rate. Therefore, given our data and our analysis, it is possible for the political campaign to address some glaring incarceration public policy concerns. Pop culture and local internet gossip refers that the “Three-Strikes Law” is unjust or even that the difference between prison sentences of a couple days to a couple months is difficult to quantify. Our model suggests that reducing prison sentences or changing incarceration rates would have little effect on crime rates, since they are not statistically significant compared to the other variables. Therefore, we recommend a more thorough investigation on reducing prison sentence lengths for types of crime, as this may have a positive voter appeal and also reduce a flawed public policy of high prison sentences. \n"
   ]
  }
 ],
 "metadata": {
  "kernelspec": {
   "display_name": "R",
   "language": "R",
   "name": "ir"
  },
  "language_info": {
   "codemirror_mode": "r",
   "file_extension": ".r",
   "mimetype": "text/x-r-source",
   "name": "R",
   "pygments_lexer": "r",
   "version": "3.6.1"
  }
 },
 "nbformat": 4,
 "nbformat_minor": 2
}
